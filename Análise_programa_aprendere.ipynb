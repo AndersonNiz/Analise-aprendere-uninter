{
  "nbformat": 4,
  "nbformat_minor": 0,
  "metadata": {
    "colab": {
      "name": "Análise_programa_aprendere.ipynb",
      "provenance": [],
      "collapsed_sections": [],
      "mount_file_id": "1gnid93whJ9WVh2iwolI0ZjqqDKS7AWoC",
      "authorship_tag": "ABX9TyPWgnPRLCkd1ADSQVFvh/r0",
      "include_colab_link": true
    },
    "kernelspec": {
      "name": "python3",
      "display_name": "Python 3"
    },
    "language_info": {
      "name": "python"
    }
  },
  "cells": [
    {
      "cell_type": "markdown",
      "metadata": {
        "id": "view-in-github",
        "colab_type": "text"
      },
      "source": [
        "<a href=\"https://colab.research.google.com/github/AndersonNiz/Bootcamp-Data-Engineer/blob/main/An%C3%A1lise_programa_aprendere.ipynb\" target=\"_parent\"><img src=\"https://colab.research.google.com/assets/colab-badge.svg\" alt=\"Open In Colab\"/></a>"
      ]
    },
    {
      "cell_type": "code",
      "execution_count": null,
      "metadata": {
        "id": "tXKqUH0zoi3l"
      },
      "outputs": [],
      "source": [
        "# Imports necessários\n",
        "import pandas as pd\n",
        "pd.set_option(\"max_rows\", None)\n",
        "pd.set_option('max_columns', None)   # Mostrar todas as linhas para a análise exploratória\n",
        "import seaborn as sns\n",
        "import numpy as np\n",
        "import matplotlib.pyplot as plt"
      ]
    },
    {
      "cell_type": "code",
      "source": [
        "# Criação do dataset\n",
        "# encoding necessário para a visualização correta dos caracteres especiais presentes\n",
        "dados = pd.read_csv('/content/drive/MyDrive/2022-01-01_imapaprendere_-_Base_de_Dados (1).csv',\n",
        "                    sep=None, engine='python', encoding = \"ISO-8859-1\")"
      ],
      "metadata": {
        "id": "VGhTg_5to4G6"
      },
      "execution_count": null,
      "outputs": []
    },
    {
      "cell_type": "code",
      "source": [
        "# Visualização inicial dos dados\n",
        "dados.head()"
      ],
      "metadata": {
        "id": "kbyySxBio-Uk"
      },
      "execution_count": null,
      "outputs": []
    },
    {
      "cell_type": "code",
      "source": [
        "dados.columns"
      ],
      "metadata": {
        "id": "VgAoEV4QpRZw"
      },
      "execution_count": null,
      "outputs": []
    },
    {
      "cell_type": "code",
      "source": [
        "# Visualização dos tipos de dados presentes\n",
        "dados.dtypes"
      ],
      "metadata": {
        "id": "booqR1aRpSZ4"
      },
      "execution_count": null,
      "outputs": []
    },
    {
      "cell_type": "code",
      "source": [
        "# Remove a coluna 'Unnamed' a qual não possui utilidade\n",
        "# Remove a linha 2, a qual representa a separação dos dados com o cabeçalho ('-----').\n",
        "dados.drop('Unnamed: 7', axis = 1, inplace = True)\n",
        "dados.drop(index=0, axis = 0, inplace = True)"
      ],
      "metadata": {
        "id": "b6RW7AAHpUue"
      },
      "execution_count": null,
      "outputs": []
    },
    {
      "cell_type": "code",
      "source": [
        "# Remove os dados anteriores a 2017 para concentrar a análise nos dados dos últimos 5 anos:\n",
        "dados.drop(dados.loc[(dados['ANO_EXECUCAO'] < '2017')].index, inplace = True)"
      ],
      "metadata": {
        "id": "9olPX9fapYFw"
      },
      "execution_count": null,
      "outputs": []
    },
    {
      "cell_type": "code",
      "source": [
        "# Remove registros incorretos encontrados no arquivo:\n",
        "dados.drop(dados.loc[dados['CARGA_HORARIA']=='FORMAÇÃO'].index, inplace=True)"
      ],
      "metadata": {
        "id": "S8KATkaApaFM"
      },
      "execution_count": null,
      "outputs": []
    },
    {
      "cell_type": "code",
      "source": [
        "# Altera os tipos de dados numéricos de string para float:\n",
        "dados['ANO_EXECUCAO'] = dados['ANO_EXECUCAO'].values.astype(np.int64)\n",
        "dados['TOTAL_INSCRITOS'] = dados['TOTAL_INSCRITOS'].values.astype(np.int64)\n",
        "dados['TOTAL_CERTIFICADOS'] = dados['TOTAL_CERTIFICADOS'].values.astype(np.int64)\n",
        "dados['CARGA_HORARIA'] = dados['CARGA_HORARIA'].values.astype(np.int64)"
      ],
      "metadata": {
        "id": "GdxvP2wapcXC"
      },
      "execution_count": null,
      "outputs": []
    },
    {
      "cell_type": "code",
      "source": [
        "# Visualização dos tipos de dados alterados\n",
        "dados.dtypes"
      ],
      "metadata": {
        "id": "8aeoNCbDtnyM"
      },
      "execution_count": null,
      "outputs": []
    },
    {
      "cell_type": "code",
      "source": [
        "# Mostra a ocorrência de cursos ofertados dentro de uma área temática:\n",
        "freq = dados['AREA_TEMATICA'].value_counts()\n",
        "print(freq)"
      ],
      "metadata": {
        "id": "ynzyS79epiKK"
      },
      "execution_count": null,
      "outputs": []
    },
    {
      "cell_type": "code",
      "source": [
        "# Altera os rótulos das áreas temáticas registradas incorretamente\n",
        "dados['AREA_TEMATICA'] = dados['AREA_TEMATICA'].replace(\n",
        "    ['DESENVOLVIMENTO TECNICO - ADMINISTRATIVO-OPERACIONAL.','DST/AIDS.', 'URGÊNCIA/EMERGÊNCIA.'],\n",
        "    ['DESENVOLVIMENTO TECNICO - ADMINISTRATIVO-OPERACIONAL','DST/AIDS','URGÊNCIA/EMERGÊNCIA'])"
      ],
      "metadata": {
        "id": "OvCksaJ9pwH_"
      },
      "execution_count": null,
      "outputs": []
    },
    {
      "cell_type": "code",
      "source": [
        "# Informações básicas retiradas dos dados\n",
        "print(f'Total de cursos ofertados: {dados.CURSO.value_counts().sum()}')\n",
        "print(f'Carga horária somada dos cursos ofertados: {dados.CARGA_HORARIA.sum()}')\n",
        "print(f'Total de inscritos nos cursos ofertados: {dados.TOTAL_INSCRITOS.sum()}')\n",
        "print(f'Total de certificados emitidos nos cursos ofertados (concluintes): {dados.TOTAL_CERTIFICADOS.sum()}')\n",
        "print(f'Taxa de conclusão dos cursos: {dados.TOTAL_CERTIFICADOS.sum()/dados.TOTAL_INSCRITOS.sum()*100:.1f} %')\n",
        "print(f'Quantidade de áreas temáticas: {dados.AREA_TEMATICA.nunique()}')"
      ],
      "metadata": {
        "id": "FGLHfLCETaGa"
      },
      "execution_count": null,
      "outputs": []
    },
    {
      "cell_type": "code",
      "source": [
        "dados.groupby('AREA_TEMATICA').nunique()"
      ],
      "metadata": {
        "id": "qWbjxcRLpxkM"
      },
      "execution_count": null,
      "outputs": []
    },
    {
      "cell_type": "code",
      "source": [
        "dados.groupby(['AREA_TEMATICA'])['ANO_EXECUCAO'].value_counts().unique"
      ],
      "metadata": {
        "id": "HxmY566up4Uc"
      },
      "execution_count": null,
      "outputs": []
    },
    {
      "cell_type": "code",
      "source": [
        "# Gera tabela interativa com a quantidade de cursos ofertados por cada área temática\n",
        "\n",
        "freq_areas = pd.DataFrame(pd.DataFrame(dados['AREA_TEMATICA'].value_counts()))"
      ],
      "metadata": {
        "id": "OaPforS5t2T7"
      },
      "execution_count": null,
      "outputs": []
    },
    {
      "cell_type": "code",
      "source": [
        "# Cursos mais frequentes dentro da área 'FORMAÇÃO'\n",
        "freq_form = dados[dados.AREA_TEMATICA == 'FORMAÇÃO']\n",
        "freq_formac = pd.DataFrame(pd.DataFrame(freq_form['CURSO'].value_counts()))\n",
        "freq_formac.rename(columns={'CURSO': 'Total de Cursos'}, inplace = True)\n",
        "freq_formac.head(10)"
      ],
      "metadata": {
        "id": "p1bqwY26JWQh"
      },
      "execution_count": null,
      "outputs": []
    },
    {
      "cell_type": "code",
      "source": [
        "# Cursos mais frequentes dentro da área 'FORMAÇÃO'\n",
        "freq_espec = dados[dados.AREA_TEMATICA == 'ESPECÍFICA']\n",
        "freq_especi = pd.DataFrame(pd.DataFrame(freq_espec['CURSO'].value_counts()))\n",
        "freq_especi.rename(columns={'CURSO': 'Total de Cursos'}, inplace = True)\n",
        "freq_especi.head(10)"
      ],
      "metadata": {
        "id": "uXHQQcQ_UCJ3"
      },
      "execution_count": null,
      "outputs": []
    },
    {
      "cell_type": "code",
      "source": [
        "# Relação de oferta anual de cursos pelo programa:\n",
        "\n",
        "ano_exec = dados.ANO_EXECUCAO\n",
        "ano_exec.value_counts()\n",
        "ano_execuc = pd.DataFrame(ano_exec.value_counts())\n",
        "ano_execuc.rename(columns={'ANO_EXECUCAO': 'Total_Cursos'}, inplace = True)\n",
        "ano_execuc.index = ano_execuc.index.values.astype(np.object)\n",
        "sns.barplot(x = ano_execuc.index, y=ano_execuc.Total_Cursos);"
      ],
      "metadata": {
        "id": "YofBTLDmQsWt"
      },
      "execution_count": null,
      "outputs": []
    },
    {
      "cell_type": "code",
      "source": [
        "freq_areas.rename(columns={'Total de Cursos': 'Total_cursos'}, inplace = True)"
      ],
      "metadata": {
        "id": "O7NQZwsDFS9s"
      },
      "execution_count": null,
      "outputs": []
    },
    {
      "cell_type": "code",
      "source": [
        "freq_areas.head(15)"
      ],
      "metadata": {
        "id": "yFRlDGxEt4Yc",
        "colab": {
          "base_uri": "https://localhost:8080/",
          "height": 520
        },
        "outputId": "0a487b51-a0e6-4669-f83d-e143eb040c9a"
      },
      "execution_count": null,
      "outputs": [
        {
          "output_type": "execute_result",
          "data": {
            "text/html": [
              "\n",
              "  <div id=\"df-da2e36f3-96c5-43c8-9b74-acd58b45f9f4\">\n",
              "    <div class=\"colab-df-container\">\n",
              "      <div>\n",
              "<style scoped>\n",
              "    .dataframe tbody tr th:only-of-type {\n",
              "        vertical-align: middle;\n",
              "    }\n",
              "\n",
              "    .dataframe tbody tr th {\n",
              "        vertical-align: top;\n",
              "    }\n",
              "\n",
              "    .dataframe thead th {\n",
              "        text-align: right;\n",
              "    }\n",
              "</style>\n",
              "<table border=\"1\" class=\"dataframe\">\n",
              "  <thead>\n",
              "    <tr style=\"text-align: right;\">\n",
              "      <th></th>\n",
              "      <th>Total_cursos</th>\n",
              "    </tr>\n",
              "  </thead>\n",
              "  <tbody>\n",
              "    <tr>\n",
              "      <th>FORMAÇÃO</th>\n",
              "      <td>4975</td>\n",
              "    </tr>\n",
              "    <tr>\n",
              "      <th>ESPECÍFICA</th>\n",
              "      <td>218</td>\n",
              "    </tr>\n",
              "    <tr>\n",
              "      <th>SOCIAL</th>\n",
              "      <td>100</td>\n",
              "    </tr>\n",
              "    <tr>\n",
              "      <th>ESPORTE, LAZER E JUVENTUDE</th>\n",
              "      <td>94</td>\n",
              "    </tr>\n",
              "    <tr>\n",
              "      <th>GESTÃO DE PESSOAS</th>\n",
              "      <td>89</td>\n",
              "    </tr>\n",
              "    <tr>\n",
              "      <th>TEMAS ESPECÍFICOS</th>\n",
              "      <td>60</td>\n",
              "    </tr>\n",
              "    <tr>\n",
              "      <th>INFORMÁTICA</th>\n",
              "      <td>56</td>\n",
              "    </tr>\n",
              "    <tr>\n",
              "      <th>SAÚDE OCUPACIONAL</th>\n",
              "      <td>50</td>\n",
              "    </tr>\n",
              "    <tr>\n",
              "      <th>URGÊNCIA/EMERGÊNCIA</th>\n",
              "      <td>40</td>\n",
              "    </tr>\n",
              "    <tr>\n",
              "      <th>VIGILÂNCIA EPIDEMIOLOGICA</th>\n",
              "      <td>38</td>\n",
              "    </tr>\n",
              "    <tr>\n",
              "      <th>COSTURA</th>\n",
              "      <td>36</td>\n",
              "    </tr>\n",
              "    <tr>\n",
              "      <th>ADMINISTRAÇÃO PÚBLICA</th>\n",
              "      <td>34</td>\n",
              "    </tr>\n",
              "    <tr>\n",
              "      <th>DESENVOLVIMENTO TECNICO - ADMINISTRATIVO-OPERACIONAL</th>\n",
              "      <td>34</td>\n",
              "    </tr>\n",
              "    <tr>\n",
              "      <th>SAÚDE MENTAL</th>\n",
              "      <td>29</td>\n",
              "    </tr>\n",
              "    <tr>\n",
              "      <th>SAÚDE DA CRIANÇA</th>\n",
              "      <td>24</td>\n",
              "    </tr>\n",
              "  </tbody>\n",
              "</table>\n",
              "</div>\n",
              "      <button class=\"colab-df-convert\" onclick=\"convertToInteractive('df-da2e36f3-96c5-43c8-9b74-acd58b45f9f4')\"\n",
              "              title=\"Convert this dataframe to an interactive table.\"\n",
              "              style=\"display:none;\">\n",
              "        \n",
              "  <svg xmlns=\"http://www.w3.org/2000/svg\" height=\"24px\"viewBox=\"0 0 24 24\"\n",
              "       width=\"24px\">\n",
              "    <path d=\"M0 0h24v24H0V0z\" fill=\"none\"/>\n",
              "    <path d=\"M18.56 5.44l.94 2.06.94-2.06 2.06-.94-2.06-.94-.94-2.06-.94 2.06-2.06.94zm-11 1L8.5 8.5l.94-2.06 2.06-.94-2.06-.94L8.5 2.5l-.94 2.06-2.06.94zm10 10l.94 2.06.94-2.06 2.06-.94-2.06-.94-.94-2.06-.94 2.06-2.06.94z\"/><path d=\"M17.41 7.96l-1.37-1.37c-.4-.4-.92-.59-1.43-.59-.52 0-1.04.2-1.43.59L10.3 9.45l-7.72 7.72c-.78.78-.78 2.05 0 2.83L4 21.41c.39.39.9.59 1.41.59.51 0 1.02-.2 1.41-.59l7.78-7.78 2.81-2.81c.8-.78.8-2.07 0-2.86zM5.41 20L4 18.59l7.72-7.72 1.47 1.35L5.41 20z\"/>\n",
              "  </svg>\n",
              "      </button>\n",
              "      \n",
              "  <style>\n",
              "    .colab-df-container {\n",
              "      display:flex;\n",
              "      flex-wrap:wrap;\n",
              "      gap: 12px;\n",
              "    }\n",
              "\n",
              "    .colab-df-convert {\n",
              "      background-color: #E8F0FE;\n",
              "      border: none;\n",
              "      border-radius: 50%;\n",
              "      cursor: pointer;\n",
              "      display: none;\n",
              "      fill: #1967D2;\n",
              "      height: 32px;\n",
              "      padding: 0 0 0 0;\n",
              "      width: 32px;\n",
              "    }\n",
              "\n",
              "    .colab-df-convert:hover {\n",
              "      background-color: #E2EBFA;\n",
              "      box-shadow: 0px 1px 2px rgba(60, 64, 67, 0.3), 0px 1px 3px 1px rgba(60, 64, 67, 0.15);\n",
              "      fill: #174EA6;\n",
              "    }\n",
              "\n",
              "    [theme=dark] .colab-df-convert {\n",
              "      background-color: #3B4455;\n",
              "      fill: #D2E3FC;\n",
              "    }\n",
              "\n",
              "    [theme=dark] .colab-df-convert:hover {\n",
              "      background-color: #434B5C;\n",
              "      box-shadow: 0px 1px 3px 1px rgba(0, 0, 0, 0.15);\n",
              "      filter: drop-shadow(0px 1px 2px rgba(0, 0, 0, 0.3));\n",
              "      fill: #FFFFFF;\n",
              "    }\n",
              "  </style>\n",
              "\n",
              "      <script>\n",
              "        const buttonEl =\n",
              "          document.querySelector('#df-da2e36f3-96c5-43c8-9b74-acd58b45f9f4 button.colab-df-convert');\n",
              "        buttonEl.style.display =\n",
              "          google.colab.kernel.accessAllowed ? 'block' : 'none';\n",
              "\n",
              "        async function convertToInteractive(key) {\n",
              "          const element = document.querySelector('#df-da2e36f3-96c5-43c8-9b74-acd58b45f9f4');\n",
              "          const dataTable =\n",
              "            await google.colab.kernel.invokeFunction('convertToInteractive',\n",
              "                                                     [key], {});\n",
              "          if (!dataTable) return;\n",
              "\n",
              "          const docLinkHtml = 'Like what you see? Visit the ' +\n",
              "            '<a target=\"_blank\" href=https://colab.research.google.com/notebooks/data_table.ipynb>data table notebook</a>'\n",
              "            + ' to learn more about interactive tables.';\n",
              "          element.innerHTML = '';\n",
              "          dataTable['output_type'] = 'display_data';\n",
              "          await google.colab.output.renderOutput(dataTable, element);\n",
              "          const docLink = document.createElement('div');\n",
              "          docLink.innerHTML = docLinkHtml;\n",
              "          element.appendChild(docLink);\n",
              "        }\n",
              "      </script>\n",
              "    </div>\n",
              "  </div>\n",
              "  "
            ],
            "text/plain": [
              "                                                    Total_cursos\n",
              "FORMAÇÃO                                                    4975\n",
              "ESPECÍFICA                                                   218\n",
              "SOCIAL                                                       100\n",
              "ESPORTE, LAZER E JUVENTUDE                                    94\n",
              "GESTÃO DE PESSOAS                                             89\n",
              "TEMAS ESPECÍFICOS                                             60\n",
              "INFORMÁTICA                                                   56\n",
              "SAÚDE OCUPACIONAL                                             50\n",
              "URGÊNCIA/EMERGÊNCIA                                           40\n",
              "VIGILÂNCIA EPIDEMIOLOGICA                                     38\n",
              "COSTURA                                                       36\n",
              "ADMINISTRAÇÃO PÚBLICA                                         34\n",
              "DESENVOLVIMENTO TECNICO - ADMINISTRATIVO-OPERAC...            34\n",
              "SAÚDE MENTAL                                                  29\n",
              "SAÚDE DA CRIANÇA                                              24"
            ]
          },
          "metadata": {},
          "execution_count": 149
        }
      ]
    },
    {
      "cell_type": "code",
      "source": [
        "# Plota o gráfico relacionando área temática x frequência\n",
        "\n",
        "dados_maiores = freq_areas.loc[(freq_areas['Total_cursos'] > 23)]\n",
        "sns.barplot(y = dados_maiores.index, x=dados_maiores.Total_cursos);"
      ],
      "metadata": {
        "id": "2BKBEDHVw1Eq"
      },
      "execution_count": null,
      "outputs": []
    },
    {
      "cell_type": "code",
      "source": [
        "# Plota o gráfico relacionando área temática x frequência sem os dados de FORMAÇÃO\n",
        "\n",
        "\n",
        "dados_sem_form = freq_areas.loc[(freq_areas['Total_cursos'] > 30) & (freq_areas['Total_cursos'] < 1000)]\n",
        "sns.barplot(y = dados_sem_form.index, x=dados_sem_form.Total_cursos);"
      ],
      "metadata": {
        "id": "tozU1OCc24tR"
      },
      "execution_count": null,
      "outputs": []
    },
    {
      "cell_type": "code",
      "source": [
        "freq_soc = dados[dados.AREA_TEMATICA == 'GESTÃO DE PESSOAS']\n",
        "freq_socia = pd.DataFrame(pd.DataFrame(freq_soc['CURSO'].value_counts()))\n",
        "freq_socia.rename(columns={'CURSO': 'Total de Cursos'}, inplace = True)\n",
        "freq_socia.head(10)"
      ],
      "metadata": {
        "colab": {
          "base_uri": "https://localhost:8080/",
          "height": 363
        },
        "id": "vAraYDCvd19H",
        "outputId": "6fe447db-0d6b-4df8-ded1-ae8950bb114a"
      },
      "execution_count": null,
      "outputs": [
        {
          "output_type": "execute_result",
          "data": {
            "text/html": [
              "\n",
              "  <div id=\"df-7ad88a79-81cf-4390-af91-1163e0a0ac5d\">\n",
              "    <div class=\"colab-df-container\">\n",
              "      <div>\n",
              "<style scoped>\n",
              "    .dataframe tbody tr th:only-of-type {\n",
              "        vertical-align: middle;\n",
              "    }\n",
              "\n",
              "    .dataframe tbody tr th {\n",
              "        vertical-align: top;\n",
              "    }\n",
              "\n",
              "    .dataframe thead th {\n",
              "        text-align: right;\n",
              "    }\n",
              "</style>\n",
              "<table border=\"1\" class=\"dataframe\">\n",
              "  <thead>\n",
              "    <tr style=\"text-align: right;\">\n",
              "      <th></th>\n",
              "      <th>Total de Cursos</th>\n",
              "    </tr>\n",
              "  </thead>\n",
              "  <tbody>\n",
              "    <tr>\n",
              "      <th>EDUCAÇÃO PREVIDENCIÁRIA DOS SERVIDORES MUNICIPAIS DE CURITIBA - PREPARANDO O SERVIDOR PARA A APOSENTADORIA</th>\n",
              "      <td>2</td>\n",
              "    </tr>\n",
              "    <tr>\n",
              "      <th>DIAGNÓSTICO E MANEJO DE TUBERCULOSE NA REDE BÁSICA DE SAÚDE</th>\n",
              "      <td>2</td>\n",
              "    </tr>\n",
              "    <tr>\n",
              "      <th>CAPACITAÇÃO 2017 LIDERANÇA</th>\n",
              "      <td>1</td>\n",
              "    </tr>\n",
              "    <tr>\n",
              "      <th>SAÚDE DO HOMEM - ADMINISTRAÇÕES REGIONAIS</th>\n",
              "      <td>1</td>\n",
              "    </tr>\n",
              "    <tr>\n",
              "      <th>BRIGADAS DE INCÊNDIO - EAD</th>\n",
              "      <td>1</td>\n",
              "    </tr>\n",
              "    <tr>\n",
              "      <th>SIPAT - SEMANA DE PROMOÇÃO DA SAÚDE, SEGURANÇA E QUALIDADE DE VIDA DO SERVIDOR III</th>\n",
              "      <td>1</td>\n",
              "    </tr>\n",
              "    <tr>\n",
              "      <th>CAPACITAÇÃO EM ORÇAMENTO PÚBLICO - PMAT</th>\n",
              "      <td>1</td>\n",
              "    </tr>\n",
              "    <tr>\n",
              "      <th>COMO USAR SUA AUTENTICIDADE PARA SE CONECTAR ÀS PESSOAS - EAD</th>\n",
              "      <td>1</td>\n",
              "    </tr>\n",
              "    <tr>\n",
              "      <th>CICLO DE PALESTRAS PARA DESENVOLVIMENTO DE GESTORES: ASSEDIO  MORAL NO TRABALHO</th>\n",
              "      <td>1</td>\n",
              "    </tr>\n",
              "    <tr>\n",
              "      <th>USO DE EXTINTORES</th>\n",
              "      <td>1</td>\n",
              "    </tr>\n",
              "  </tbody>\n",
              "</table>\n",
              "</div>\n",
              "      <button class=\"colab-df-convert\" onclick=\"convertToInteractive('df-7ad88a79-81cf-4390-af91-1163e0a0ac5d')\"\n",
              "              title=\"Convert this dataframe to an interactive table.\"\n",
              "              style=\"display:none;\">\n",
              "        \n",
              "  <svg xmlns=\"http://www.w3.org/2000/svg\" height=\"24px\"viewBox=\"0 0 24 24\"\n",
              "       width=\"24px\">\n",
              "    <path d=\"M0 0h24v24H0V0z\" fill=\"none\"/>\n",
              "    <path d=\"M18.56 5.44l.94 2.06.94-2.06 2.06-.94-2.06-.94-.94-2.06-.94 2.06-2.06.94zm-11 1L8.5 8.5l.94-2.06 2.06-.94-2.06-.94L8.5 2.5l-.94 2.06-2.06.94zm10 10l.94 2.06.94-2.06 2.06-.94-2.06-.94-.94-2.06-.94 2.06-2.06.94z\"/><path d=\"M17.41 7.96l-1.37-1.37c-.4-.4-.92-.59-1.43-.59-.52 0-1.04.2-1.43.59L10.3 9.45l-7.72 7.72c-.78.78-.78 2.05 0 2.83L4 21.41c.39.39.9.59 1.41.59.51 0 1.02-.2 1.41-.59l7.78-7.78 2.81-2.81c.8-.78.8-2.07 0-2.86zM5.41 20L4 18.59l7.72-7.72 1.47 1.35L5.41 20z\"/>\n",
              "  </svg>\n",
              "      </button>\n",
              "      \n",
              "  <style>\n",
              "    .colab-df-container {\n",
              "      display:flex;\n",
              "      flex-wrap:wrap;\n",
              "      gap: 12px;\n",
              "    }\n",
              "\n",
              "    .colab-df-convert {\n",
              "      background-color: #E8F0FE;\n",
              "      border: none;\n",
              "      border-radius: 50%;\n",
              "      cursor: pointer;\n",
              "      display: none;\n",
              "      fill: #1967D2;\n",
              "      height: 32px;\n",
              "      padding: 0 0 0 0;\n",
              "      width: 32px;\n",
              "    }\n",
              "\n",
              "    .colab-df-convert:hover {\n",
              "      background-color: #E2EBFA;\n",
              "      box-shadow: 0px 1px 2px rgba(60, 64, 67, 0.3), 0px 1px 3px 1px rgba(60, 64, 67, 0.15);\n",
              "      fill: #174EA6;\n",
              "    }\n",
              "\n",
              "    [theme=dark] .colab-df-convert {\n",
              "      background-color: #3B4455;\n",
              "      fill: #D2E3FC;\n",
              "    }\n",
              "\n",
              "    [theme=dark] .colab-df-convert:hover {\n",
              "      background-color: #434B5C;\n",
              "      box-shadow: 0px 1px 3px 1px rgba(0, 0, 0, 0.15);\n",
              "      filter: drop-shadow(0px 1px 2px rgba(0, 0, 0, 0.3));\n",
              "      fill: #FFFFFF;\n",
              "    }\n",
              "  </style>\n",
              "\n",
              "      <script>\n",
              "        const buttonEl =\n",
              "          document.querySelector('#df-7ad88a79-81cf-4390-af91-1163e0a0ac5d button.colab-df-convert');\n",
              "        buttonEl.style.display =\n",
              "          google.colab.kernel.accessAllowed ? 'block' : 'none';\n",
              "\n",
              "        async function convertToInteractive(key) {\n",
              "          const element = document.querySelector('#df-7ad88a79-81cf-4390-af91-1163e0a0ac5d');\n",
              "          const dataTable =\n",
              "            await google.colab.kernel.invokeFunction('convertToInteractive',\n",
              "                                                     [key], {});\n",
              "          if (!dataTable) return;\n",
              "\n",
              "          const docLinkHtml = 'Like what you see? Visit the ' +\n",
              "            '<a target=\"_blank\" href=https://colab.research.google.com/notebooks/data_table.ipynb>data table notebook</a>'\n",
              "            + ' to learn more about interactive tables.';\n",
              "          element.innerHTML = '';\n",
              "          dataTable['output_type'] = 'display_data';\n",
              "          await google.colab.output.renderOutput(dataTable, element);\n",
              "          const docLink = document.createElement('div');\n",
              "          docLink.innerHTML = docLinkHtml;\n",
              "          element.appendChild(docLink);\n",
              "        }\n",
              "      </script>\n",
              "    </div>\n",
              "  </div>\n",
              "  "
            ],
            "text/plain": [
              "                                                    Total de Cursos\n",
              "EDUCAÇÃO PREVIDENCIÁRIA DOS SERVIDORES MUNICIPA...                2\n",
              "DIAGNÓSTICO E MANEJO DE TUBERCULOSE NA REDE BÁS...                2\n",
              "CAPACITAÇÃO 2017 LIDERANÇA                                        1\n",
              "SAÚDE DO HOMEM - ADMINISTRAÇÕES REGIONAIS                         1\n",
              "BRIGADAS DE INCÊNDIO - EAD                                        1\n",
              "SIPAT - SEMANA DE PROMOÇÃO DA SAÚDE, SEGURANÇA ...                1\n",
              "CAPACITAÇÃO EM ORÇAMENTO PÚBLICO - PMAT                           1\n",
              "COMO USAR SUA AUTENTICIDADE PARA SE CONECTAR ÀS...                1\n",
              "CICLO DE PALESTRAS PARA DESENVOLVIMENTO DE GEST...                1\n",
              "USO DE EXTINTORES                                                 1"
            ]
          },
          "metadata": {},
          "execution_count": 152
        }
      ]
    }
  ]
}